{
 "cells": [
  {
   "cell_type": "code",
   "execution_count": 416,
   "metadata": {},
   "outputs": [],
   "source": [
    "import pandas as pd"
   ]
  },
  {
   "cell_type": "code",
   "execution_count": 417,
   "metadata": {},
   "outputs": [
    {
     "name": "stderr",
     "output_type": "stream",
     "text": [
      "c:\\Users\\33638\\anaconda3\\lib\\site-packages\\IPython\\core\\interactiveshell.py:3106: DtypeWarning: Columns (3,30,41,42,49,61,62,63,64,67) have mixed types.Specify dtype option on import or set low_memory=False.\n",
      "  has_raised = await self.run_ast_nodes(code_ast.body, cell_name,\n"
     ]
    }
   ],
   "source": [
    "df = pd.read_csv(\"base-joconde-extrait.csv\",sep=\";\")"
   ]
  },
  {
   "cell_type": "code",
   "execution_count": 418,
   "metadata": {},
   "outputs": [],
   "source": [
    "musee = pd.read_csv(\"musees-de-france-base-museofile.csv\",sep=\";\")"
   ]
  },
  {
   "cell_type": "code",
   "execution_count": 419,
   "metadata": {},
   "outputs": [
    {
     "data": {
      "text/html": [
       "<div>\n",
       "<style scoped>\n",
       "    .dataframe tbody tr th:only-of-type {\n",
       "        vertical-align: middle;\n",
       "    }\n",
       "\n",
       "    .dataframe tbody tr th {\n",
       "        vertical-align: top;\n",
       "    }\n",
       "\n",
       "    .dataframe thead th {\n",
       "        text-align: right;\n",
       "    }\n",
       "</style>\n",
       "<table border=\"1\" class=\"dataframe\">\n",
       "  <thead>\n",
       "    <tr style=\"text-align: right;\">\n",
       "      <th></th>\n",
       "      <th>ID-notice</th>\n",
       "      <th>POP_CONTIENT_GEOLOCALISATION</th>\n",
       "      <th>POP_COORDONNEES</th>\n",
       "      <th>Ancien dépôt</th>\n",
       "      <th>Appellation</th>\n",
       "      <th>APTN</th>\n",
       "      <th>ATTR</th>\n",
       "      <th>Auteur</th>\n",
       "      <th>BASE</th>\n",
       "      <th>BIBL</th>\n",
       "      <th>...</th>\n",
       "      <th>REGION</th>\n",
       "      <th>Sujet</th>\n",
       "      <th>RETIF</th>\n",
       "      <th>Source de la représentation</th>\n",
       "      <th>Statut juridique</th>\n",
       "      <th>Matériaux-techniques</th>\n",
       "      <th>Titre</th>\n",
       "      <th>Utilisation</th>\n",
       "      <th>WWW</th>\n",
       "      <th>Ville_</th>\n",
       "    </tr>\n",
       "  </thead>\n",
       "  <tbody>\n",
       "    <tr>\n",
       "      <th>0</th>\n",
       "      <td>M0435002007</td>\n",
       "      <td>oui</td>\n",
       "      <td>49.112285,2.21638</td>\n",
       "      <td>NaN</td>\n",
       "      <td>NaN</td>\n",
       "      <td>De Michel Bloit en 1993</td>\n",
       "      <td>NaN</td>\n",
       "      <td>LE GULUCHE Joseph Marie</td>\n",
       "      <td>Collections des musées de France (Joconde)</td>\n",
       "      <td>33 ; 196 ; 44</td>\n",
       "      <td>...</td>\n",
       "      <td>Ile-de-France</td>\n",
       "      <td>scène (naufrage, tempête, vague, bateau, marin...</td>\n",
       "      <td>NaN</td>\n",
       "      <td>NaN</td>\n",
       "      <td>propriété privée</td>\n",
       "      <td>terre cuite</td>\n",
       "      <td>En Détresse</td>\n",
       "      <td>NaN</td>\n",
       "      <td>NaN</td>\n",
       "      <td>L'Isle-Adam</td>\n",
       "    </tr>\n",
       "    <tr>\n",
       "      <th>1</th>\n",
       "      <td>M0435001924</td>\n",
       "      <td>oui</td>\n",
       "      <td>49.112285,2.21638</td>\n",
       "      <td>NaN</td>\n",
       "      <td>NaN</td>\n",
       "      <td>Fonds ancien du Musée</td>\n",
       "      <td>NaN</td>\n",
       "      <td>THOMSEN Constant</td>\n",
       "      <td>Collections des musées de France (Joconde)</td>\n",
       "      <td>NaN</td>\n",
       "      <td>...</td>\n",
       "      <td>Ile-de-France</td>\n",
       "      <td>portrait (homme, en buste, expression du visag...</td>\n",
       "      <td>NaN</td>\n",
       "      <td>NaN</td>\n",
       "      <td>propriété de la commune;don;L'Isle-Adam;musée ...</td>\n",
       "      <td>terre cuite</td>\n",
       "      <td>Bazeilles</td>\n",
       "      <td>NaN</td>\n",
       "      <td>NaN</td>\n",
       "      <td>L'Isle-Adam</td>\n",
       "    </tr>\n",
       "    <tr>\n",
       "      <th>2</th>\n",
       "      <td>M0435002028</td>\n",
       "      <td>oui</td>\n",
       "      <td>49.112285,2.21638</td>\n",
       "      <td>NaN</td>\n",
       "      <td>NaN</td>\n",
       "      <td>Don de l'Association des Amis du musée ; Maiso...</td>\n",
       "      <td>NaN</td>\n",
       "      <td>FJERDINGSTAD Christian (orfèvre)</td>\n",
       "      <td>Collections des musées de France (Joconde)</td>\n",
       "      <td>NaN</td>\n",
       "      <td>...</td>\n",
       "      <td>Ile-de-France</td>\n",
       "      <td>NaN</td>\n",
       "      <td>NaN</td>\n",
       "      <td>NaN</td>\n",
       "      <td>propriété de la commune;don;L'Isle-Adam;musée ...</td>\n",
       "      <td>étain</td>\n",
       "      <td>NaN</td>\n",
       "      <td>NaN</td>\n",
       "      <td>NaN</td>\n",
       "      <td>L'Isle-Adam</td>\n",
       "    </tr>\n",
       "    <tr>\n",
       "      <th>3</th>\n",
       "      <td>08120020599</td>\n",
       "      <td>oui</td>\n",
       "      <td>49.890413,2.295968</td>\n",
       "      <td>NaN</td>\n",
       "      <td>NaN</td>\n",
       "      <td>Collection privée, Duthoit, 1912</td>\n",
       "      <td>NaN</td>\n",
       "      <td>DUTHOIT Louis</td>\n",
       "      <td>Collections des musées de France (Joconde)</td>\n",
       "      <td>NaN</td>\n",
       "      <td>...</td>\n",
       "      <td>Hauts-de-France</td>\n",
       "      <td>vue d'architecture (Daours, porte, archivolte)</td>\n",
       "      <td>NaN</td>\n",
       "      <td>NaN</td>\n",
       "      <td>propriété de la commune;legs;Amiens;musée de P...</td>\n",
       "      <td>encre, papier calque, papier (blanc)</td>\n",
       "      <td>Porte d'un édifice, à Daours ; Daours : Porte ...</td>\n",
       "      <td>NaN</td>\n",
       "      <td>NaN</td>\n",
       "      <td>Amiens</td>\n",
       "    </tr>\n",
       "    <tr>\n",
       "      <th>4</th>\n",
       "      <td>08120020608</td>\n",
       "      <td>oui</td>\n",
       "      <td>49.890413,2.295968</td>\n",
       "      <td>NaN</td>\n",
       "      <td>NaN</td>\n",
       "      <td>Collection privée, Duthoit, 1912</td>\n",
       "      <td>NaN</td>\n",
       "      <td>DUTHOIT Aimé;DUTHOIT Louis</td>\n",
       "      <td>Collections des musées de France (Joconde)</td>\n",
       "      <td>NaN</td>\n",
       "      <td>...</td>\n",
       "      <td>Hauts-de-France</td>\n",
       "      <td>paysage;vue d'architecture (Démuin, village, p...</td>\n",
       "      <td>NaN</td>\n",
       "      <td>NaN</td>\n",
       "      <td>propriété de la commune;legs;Amiens;musée de P...</td>\n",
       "      <td>encre, papier calque, papier (blanc)</td>\n",
       "      <td>L'église de Démuin ; Demuin : L'église (autre ...</td>\n",
       "      <td>NaN</td>\n",
       "      <td>NaN</td>\n",
       "      <td>Amiens</td>\n",
       "    </tr>\n",
       "    <tr>\n",
       "      <th>...</th>\n",
       "      <td>...</td>\n",
       "      <td>...</td>\n",
       "      <td>...</td>\n",
       "      <td>...</td>\n",
       "      <td>...</td>\n",
       "      <td>...</td>\n",
       "      <td>...</td>\n",
       "      <td>...</td>\n",
       "      <td>...</td>\n",
       "      <td>...</td>\n",
       "      <td>...</td>\n",
       "      <td>...</td>\n",
       "      <td>...</td>\n",
       "      <td>...</td>\n",
       "      <td>...</td>\n",
       "      <td>...</td>\n",
       "      <td>...</td>\n",
       "      <td>...</td>\n",
       "      <td>...</td>\n",
       "      <td>...</td>\n",
       "      <td>...</td>\n",
       "    </tr>\n",
       "    <tr>\n",
       "      <th>650848</th>\n",
       "      <td>00660019748</td>\n",
       "      <td>oui</td>\n",
       "      <td>44.838956,-0.579686</td>\n",
       "      <td>NaN</td>\n",
       "      <td>NaN</td>\n",
       "      <td>RenÃ© Buthaud, Bordeaux</td>\n",
       "      <td>NaN</td>\n",
       "      <td>SAINT-GERMAIN Marguerite (De) (cÃ©ramiste)</td>\n",
       "      <td>Collections des musÃ©es de France (Joconde)</td>\n",
       "      <td>Jacqueline du Pasquier, Bordeaux Arts dÃ©co, P...</td>\n",
       "      <td>...</td>\n",
       "      <td>Nouvelle-Aquitaine</td>\n",
       "      <td>(cerf)</td>\n",
       "      <td>NaN</td>\n",
       "      <td>NaN</td>\n",
       "      <td>propriÃ©tÃ© de la commune;don;Bordeaux;MusÃ©e ...</td>\n",
       "      <td>faÃ¯ence (lustrÃ©e)</td>\n",
       "      <td>NaN</td>\n",
       "      <td>RÃ©cipient/Consommation des boissons chaudes</td>\n",
       "      <td>NaN</td>\n",
       "      <td>Bordeaux</td>\n",
       "    </tr>\n",
       "    <tr>\n",
       "      <th>650849</th>\n",
       "      <td>50520013409</td>\n",
       "      <td>oui</td>\n",
       "      <td>49.19397,2.48522</td>\n",
       "      <td>NaN</td>\n",
       "      <td>NaN</td>\n",
       "      <td>Henri d'OrlÃ©ans duc d'Aumale</td>\n",
       "      <td>NaN</td>\n",
       "      <td>Christofle Charles (1805-1863)</td>\n",
       "      <td>Collections des musÃ©es de France (Joconde)</td>\n",
       "      <td>NaN</td>\n",
       "      <td>...</td>\n",
       "      <td>Hauts-de-France</td>\n",
       "      <td>NaN</td>\n",
       "      <td>NaN</td>\n",
       "      <td>NaN</td>\n",
       "      <td>propriÃ©tÃ© privÃ©e;donation sous rÃ©serve d'u...</td>\n",
       "      <td>mÃ©tal dorÃ©</td>\n",
       "      <td>Cuiller Ã  entremet</td>\n",
       "      <td>NaN</td>\n",
       "      <td>NaN</td>\n",
       "      <td>Chantilly</td>\n",
       "    </tr>\n",
       "    <tr>\n",
       "      <th>650850</th>\n",
       "      <td>00660020054</td>\n",
       "      <td>oui</td>\n",
       "      <td>44.838956,-0.579686</td>\n",
       "      <td>NaN</td>\n",
       "      <td>NaN</td>\n",
       "      <td>Jeanvrot Raymond</td>\n",
       "      <td>NaN</td>\n",
       "      <td>VERRERIE / FRANCE (cristallerie)</td>\n",
       "      <td>Collections des musÃ©es de France (Joconde)</td>\n",
       "      <td>NaN</td>\n",
       "      <td>...</td>\n",
       "      <td>Nouvelle-Aquitaine</td>\n",
       "      <td>NaN</td>\n",
       "      <td>NaN</td>\n",
       "      <td>NaN</td>\n",
       "      <td>propriÃ©tÃ© de la commune;achat de la ville en...</td>\n",
       "      <td>cristal (taillÃ©, soufflÃ©-moulÃ©, gravÃ©)</td>\n",
       "      <td>NaN</td>\n",
       "      <td>Mariage</td>\n",
       "      <td>NaN</td>\n",
       "      <td>Bordeaux</td>\n",
       "    </tr>\n",
       "    <tr>\n",
       "      <th>650851</th>\n",
       "      <td>00660020033</td>\n",
       "      <td>oui</td>\n",
       "      <td>44.838956,-0.579686</td>\n",
       "      <td>NaN</td>\n",
       "      <td>NaN</td>\n",
       "      <td>Raymond Jeanvrot</td>\n",
       "      <td>NaN</td>\n",
       "      <td>LAMOISSE EugÃ¨ne (dessinateur)</td>\n",
       "      <td>Collections des musÃ©es de France (Joconde)</td>\n",
       "      <td>NaN</td>\n",
       "      <td>...</td>\n",
       "      <td>Nouvelle-Aquitaine</td>\n",
       "      <td>(Pointe-Ã -pitre, paysage antillais, bateau Ã ...</td>\n",
       "      <td>NaN</td>\n",
       "      <td>NaN</td>\n",
       "      <td>propriÃ©tÃ© de la commune;achat de la ville en...</td>\n",
       "      <td>papier (mine de plomb, gouache), cadre en bois</td>\n",
       "      <td>Vue de Pointe Ã  Pitre</td>\n",
       "      <td>Vie artistique</td>\n",
       "      <td>NaN</td>\n",
       "      <td>Bordeaux</td>\n",
       "    </tr>\n",
       "    <tr>\n",
       "      <th>650852</th>\n",
       "      <td>00660020057</td>\n",
       "      <td>oui</td>\n",
       "      <td>44.838956,-0.579686</td>\n",
       "      <td>NaN</td>\n",
       "      <td>NaN</td>\n",
       "      <td>Raymond Jeanvrot</td>\n",
       "      <td>NaN</td>\n",
       "      <td>anonyme</td>\n",
       "      <td>Collections des musÃ©es de France (Joconde)</td>\n",
       "      <td>NaN</td>\n",
       "      <td>...</td>\n",
       "      <td>Nouvelle-Aquitaine</td>\n",
       "      <td>NaN</td>\n",
       "      <td>NaN</td>\n",
       "      <td>NaN</td>\n",
       "      <td>propriÃ©tÃ© de la commune;achat de la ville en...</td>\n",
       "      <td>verre opalin (soufflÃ©, emaillÃ©)</td>\n",
       "      <td>NaN</td>\n",
       "      <td>RÃ©cipient/ Consommation des boissons froides</td>\n",
       "      <td>NaN</td>\n",
       "      <td>Bordeaux</td>\n",
       "    </tr>\n",
       "  </tbody>\n",
       "</table>\n",
       "<p>650853 rows × 75 columns</p>\n",
       "</div>"
      ],
      "text/plain": [
       "          ID-notice POP_CONTIENT_GEOLOCALISATION      POP_COORDONNEES  \\\n",
       "0       M0435002007                          oui    49.112285,2.21638   \n",
       "1       M0435001924                          oui    49.112285,2.21638   \n",
       "2       M0435002028                          oui    49.112285,2.21638   \n",
       "3       08120020599                          oui   49.890413,2.295968   \n",
       "4       08120020608                          oui   49.890413,2.295968   \n",
       "...             ...                          ...                  ...   \n",
       "650848  00660019748                          oui  44.838956,-0.579686   \n",
       "650849  50520013409                          oui     49.19397,2.48522   \n",
       "650850  00660020054                          oui  44.838956,-0.579686   \n",
       "650851  00660020033                          oui  44.838956,-0.579686   \n",
       "650852  00660020057                          oui  44.838956,-0.579686   \n",
       "\n",
       "       Ancien dépôt Appellation  \\\n",
       "0               NaN         NaN   \n",
       "1               NaN         NaN   \n",
       "2               NaN         NaN   \n",
       "3               NaN         NaN   \n",
       "4               NaN         NaN   \n",
       "...             ...         ...   \n",
       "650848          NaN         NaN   \n",
       "650849          NaN         NaN   \n",
       "650850          NaN         NaN   \n",
       "650851          NaN         NaN   \n",
       "650852          NaN         NaN   \n",
       "\n",
       "                                                     APTN ATTR  \\\n",
       "0                                 De Michel Bloit en 1993  NaN   \n",
       "1                                   Fonds ancien du Musée  NaN   \n",
       "2       Don de l'Association des Amis du musée ; Maiso...  NaN   \n",
       "3                        Collection privée, Duthoit, 1912  NaN   \n",
       "4                        Collection privée, Duthoit, 1912  NaN   \n",
       "...                                                   ...  ...   \n",
       "650848                            RenÃ© Buthaud, Bordeaux  NaN   \n",
       "650849                      Henri d'OrlÃ©ans duc d'Aumale  NaN   \n",
       "650850                                   Jeanvrot Raymond  NaN   \n",
       "650851                                   Raymond Jeanvrot  NaN   \n",
       "650852                                   Raymond Jeanvrot  NaN   \n",
       "\n",
       "                                            Auteur  \\\n",
       "0                          LE GULUCHE Joseph Marie   \n",
       "1                                 THOMSEN Constant   \n",
       "2                 FJERDINGSTAD Christian (orfèvre)   \n",
       "3                                    DUTHOIT Louis   \n",
       "4                       DUTHOIT Aimé;DUTHOIT Louis   \n",
       "...                                            ...   \n",
       "650848  SAINT-GERMAIN Marguerite (De) (cÃ©ramiste)   \n",
       "650849              Christofle Charles (1805-1863)   \n",
       "650850            VERRERIE / FRANCE (cristallerie)   \n",
       "650851              LAMOISSE EugÃ¨ne (dessinateur)   \n",
       "650852                                     anonyme   \n",
       "\n",
       "                                               BASE  \\\n",
       "0        Collections des musées de France (Joconde)   \n",
       "1        Collections des musées de France (Joconde)   \n",
       "2        Collections des musées de France (Joconde)   \n",
       "3        Collections des musées de France (Joconde)   \n",
       "4        Collections des musées de France (Joconde)   \n",
       "...                                             ...   \n",
       "650848  Collections des musÃ©es de France (Joconde)   \n",
       "650849  Collections des musÃ©es de France (Joconde)   \n",
       "650850  Collections des musÃ©es de France (Joconde)   \n",
       "650851  Collections des musÃ©es de France (Joconde)   \n",
       "650852  Collections des musÃ©es de France (Joconde)   \n",
       "\n",
       "                                                     BIBL  ...  \\\n",
       "0                                           33 ; 196 ; 44  ...   \n",
       "1                                                     NaN  ...   \n",
       "2                                                     NaN  ...   \n",
       "3                                                     NaN  ...   \n",
       "4                                                     NaN  ...   \n",
       "...                                                   ...  ...   \n",
       "650848  Jacqueline du Pasquier, Bordeaux Arts dÃ©co, P...  ...   \n",
       "650849                                                NaN  ...   \n",
       "650850                                                NaN  ...   \n",
       "650851                                                NaN  ...   \n",
       "650852                                                NaN  ...   \n",
       "\n",
       "                    REGION                                              Sujet  \\\n",
       "0            Ile-de-France  scène (naufrage, tempête, vague, bateau, marin...   \n",
       "1            Ile-de-France  portrait (homme, en buste, expression du visag...   \n",
       "2            Ile-de-France                                                NaN   \n",
       "3          Hauts-de-France     vue d'architecture (Daours, porte, archivolte)   \n",
       "4          Hauts-de-France  paysage;vue d'architecture (Démuin, village, p...   \n",
       "...                    ...                                                ...   \n",
       "650848  Nouvelle-Aquitaine                                             (cerf)   \n",
       "650849     Hauts-de-France                                                NaN   \n",
       "650850  Nouvelle-Aquitaine                                                NaN   \n",
       "650851  Nouvelle-Aquitaine  (Pointe-Ã -pitre, paysage antillais, bateau Ã ...   \n",
       "650852  Nouvelle-Aquitaine                                                NaN   \n",
       "\n",
       "       RETIF Source de la représentation  \\\n",
       "0        NaN                         NaN   \n",
       "1        NaN                         NaN   \n",
       "2        NaN                         NaN   \n",
       "3        NaN                         NaN   \n",
       "4        NaN                         NaN   \n",
       "...      ...                         ...   \n",
       "650848   NaN                         NaN   \n",
       "650849   NaN                         NaN   \n",
       "650850   NaN                         NaN   \n",
       "650851   NaN                         NaN   \n",
       "650852   NaN                         NaN   \n",
       "\n",
       "                                         Statut juridique  \\\n",
       "0                                        propriété privée   \n",
       "1       propriété de la commune;don;L'Isle-Adam;musée ...   \n",
       "2       propriété de la commune;don;L'Isle-Adam;musée ...   \n",
       "3       propriété de la commune;legs;Amiens;musée de P...   \n",
       "4       propriété de la commune;legs;Amiens;musée de P...   \n",
       "...                                                   ...   \n",
       "650848  propriÃ©tÃ© de la commune;don;Bordeaux;MusÃ©e ...   \n",
       "650849  propriÃ©tÃ© privÃ©e;donation sous rÃ©serve d'u...   \n",
       "650850  propriÃ©tÃ© de la commune;achat de la ville en...   \n",
       "650851  propriÃ©tÃ© de la commune;achat de la ville en...   \n",
       "650852  propriÃ©tÃ© de la commune;achat de la ville en...   \n",
       "\n",
       "                                  Matériaux-techniques  \\\n",
       "0                                          terre cuite   \n",
       "1                                          terre cuite   \n",
       "2                                                étain   \n",
       "3                 encre, papier calque, papier (blanc)   \n",
       "4                 encre, papier calque, papier (blanc)   \n",
       "...                                                ...   \n",
       "650848                             faÃ¯ence (lustrÃ©e)   \n",
       "650849                                    mÃ©tal dorÃ©   \n",
       "650850      cristal (taillÃ©, soufflÃ©-moulÃ©, gravÃ©)   \n",
       "650851  papier (mine de plomb, gouache), cadre en bois   \n",
       "650852               verre opalin (soufflÃ©, emaillÃ©)   \n",
       "\n",
       "                                                    Titre  \\\n",
       "0                                             En Détresse   \n",
       "1                                               Bazeilles   \n",
       "2                                                     NaN   \n",
       "3       Porte d'un édifice, à Daours ; Daours : Porte ...   \n",
       "4       L'église de Démuin ; Demuin : L'église (autre ...   \n",
       "...                                                   ...   \n",
       "650848                                                NaN   \n",
       "650849                                Cuiller Ã  entremet   \n",
       "650850                                                NaN   \n",
       "650851                             Vue de Pointe Ã  Pitre   \n",
       "650852                                                NaN   \n",
       "\n",
       "                                          Utilisation  WWW       Ville_  \n",
       "0                                                 NaN  NaN  L'Isle-Adam  \n",
       "1                                                 NaN  NaN  L'Isle-Adam  \n",
       "2                                                 NaN  NaN  L'Isle-Adam  \n",
       "3                                                 NaN  NaN       Amiens  \n",
       "4                                                 NaN  NaN       Amiens  \n",
       "...                                               ...  ...          ...  \n",
       "650848   RÃ©cipient/Consommation des boissons chaudes  NaN     Bordeaux  \n",
       "650849                                            NaN  NaN    Chantilly  \n",
       "650850                                        Mariage  NaN     Bordeaux  \n",
       "650851                                 Vie artistique  NaN     Bordeaux  \n",
       "650852  RÃ©cipient/ Consommation des boissons froides  NaN     Bordeaux  \n",
       "\n",
       "[650853 rows x 75 columns]"
      ]
     },
     "execution_count": 419,
     "metadata": {},
     "output_type": "execute_result"
    }
   ],
   "source": [
    "df"
   ]
  },
  {
   "cell_type": "code",
   "execution_count": 421,
   "metadata": {},
   "outputs": [],
   "source": [
    "df = df[['ID-notice','Auteur','Domaine','Identifiant Museofile','Titre','Période de création']]"
   ]
  },
  {
   "cell_type": "code",
   "execution_count": 422,
   "metadata": {},
   "outputs": [
    {
     "name": "stderr",
     "output_type": "stream",
     "text": [
      "C:\\Users\\33638\\AppData\\Local\\Temp\\ipykernel_15200\\1379821321.py:1: SettingWithCopyWarning: \n",
      "A value is trying to be set on a copy of a slice from a DataFrame\n",
      "\n",
      "See the caveats in the documentation: https://pandas.pydata.org/pandas-docs/stable/user_guide/indexing.html#returning-a-view-versus-a-copy\n",
      "  df.dropna(inplace=True)\n"
     ]
    }
   ],
   "source": [
    "df.dropna(inplace=True)"
   ]
  },
  {
   "cell_type": "code",
   "execution_count": 426,
   "metadata": {},
   "outputs": [],
   "source": [
    "liste_musee_to_drop = []\n",
    "for m in df[\"Identifiant Museofile\"].unique().tolist():\n",
    "    if m not in musee.Identifiant.values.tolist():\n",
    "        liste_musee_to_drop.append(m)"
   ]
  },
  {
   "cell_type": "code",
   "execution_count": 428,
   "metadata": {},
   "outputs": [
    {
     "name": "stderr",
     "output_type": "stream",
     "text": [
      "c:\\Users\\33638\\anaconda3\\lib\\site-packages\\pandas\\core\\frame.py:4308: SettingWithCopyWarning: \n",
      "A value is trying to be set on a copy of a slice from a DataFrame\n",
      "\n",
      "See the caveats in the documentation: https://pandas.pydata.org/pandas-docs/stable/user_guide/indexing.html#returning-a-view-versus-a-copy\n",
      "  return super().drop(\n"
     ]
    }
   ],
   "source": [
    "for m in liste_musee_to_drop:\n",
    "    df.drop(df[df[\"Identifiant Museofile\"]==m].index,inplace=True)"
   ]
  },
  {
   "cell_type": "markdown",
   "metadata": {},
   "source": [
    "# Création de la table Oeuvre-Auteur"
   ]
  },
  {
   "cell_type": "code",
   "execution_count": 237,
   "metadata": {},
   "outputs": [],
   "source": [
    "table_oeuvre_auteur = df[[\"ID-notice\",\"Auteur\"]]"
   ]
  },
  {
   "cell_type": "code",
   "execution_count": 238,
   "metadata": {},
   "outputs": [
    {
     "name": "stderr",
     "output_type": "stream",
     "text": [
      "C:\\Users\\33638\\AppData\\Local\\Temp\\ipykernel_15200\\3158604127.py:1: SettingWithCopyWarning: \n",
      "A value is trying to be set on a copy of a slice from a DataFrame.\n",
      "Try using .loc[row_indexer,col_indexer] = value instead\n",
      "\n",
      "See the caveats in the documentation: https://pandas.pydata.org/pandas-docs/stable/user_guide/indexing.html#returning-a-view-versus-a-copy\n",
      "  table_oeuvre_auteur[\"Auteur_Multiple\"] = False\n"
     ]
    }
   ],
   "source": [
    "table_oeuvre_auteur[\"Auteur_Multiple\"] = False"
   ]
  },
  {
   "cell_type": "code",
   "execution_count": 240,
   "metadata": {},
   "outputs": [
    {
     "name": "stderr",
     "output_type": "stream",
     "text": [
      "C:\\Users\\33638\\AppData\\Local\\Temp\\ipykernel_15200\\734512078.py:3: SettingWithCopyWarning: \n",
      "A value is trying to be set on a copy of a slice from a DataFrame\n",
      "\n",
      "See the caveats in the documentation: https://pandas.pydata.org/pandas-docs/stable/user_guide/indexing.html#returning-a-view-versus-a-copy\n",
      "  table_oeuvre_auteur.Auteur_Multiple[row] = True\n",
      "c:\\Users\\33638\\anaconda3\\lib\\site-packages\\IPython\\core\\interactiveshell.py:3369: SettingWithCopyWarning: \n",
      "A value is trying to be set on a copy of a slice from a DataFrame\n",
      "\n",
      "See the caveats in the documentation: https://pandas.pydata.org/pandas-docs/stable/user_guide/indexing.html#returning-a-view-versus-a-copy\n",
      "  exec(code_obj, self.user_global_ns, self.user_ns)\n"
     ]
    }
   ],
   "source": [
    "for row in table_oeuvre_auteur.index:\n",
    "    if \";\" in table_oeuvre_auteur.Auteur[row]:\n",
    "        table_oeuvre_auteur.Auteur_Multiple[row] = True"
   ]
  },
  {
   "cell_type": "code",
   "execution_count": 242,
   "metadata": {},
   "outputs": [],
   "source": [
    "table_oeuvre_auteur_multiple = table_oeuvre_auteur[table_oeuvre_auteur.Auteur_Multiple==True]\n",
    "table_oeuvre_auteur = table_oeuvre_auteur[table_oeuvre_auteur.Auteur_Multiple==False]"
   ]
  },
  {
   "cell_type": "code",
   "execution_count": 243,
   "metadata": {},
   "outputs": [],
   "source": [
    "df_to_add = pd.DataFrame(columns=table_oeuvre_auteur.columns)"
   ]
  },
  {
   "cell_type": "code",
   "execution_count": 266,
   "metadata": {},
   "outputs": [],
   "source": [
    "for i in table_oeuvre_auteur_multiple[76143:].index:\n",
    "    for e in table_oeuvre_auteur_multiple.Auteur[i].split(\";\"):\n",
    "        df_to_add = df_to_add.append({\"ID-notice\":table_oeuvre_auteur_multiple[\"ID-notice\"][i],\"Auteur\":e,\"Auteur_Multiple\":False},ignore_index=True)"
   ]
  },
  {
   "cell_type": "code",
   "execution_count": 268,
   "metadata": {},
   "outputs": [],
   "source": [
    "table_oeuvre_auteur = pd.concat([table_oeuvre_auteur,df_to_add])"
   ]
  },
  {
   "cell_type": "code",
   "execution_count": 269,
   "metadata": {},
   "outputs": [],
   "source": [
    "table_oeuvre_auteur.drop(\"Auteur_Multiple\",axis=1,inplace=True)"
   ]
  },
  {
   "cell_type": "code",
   "execution_count": 271,
   "metadata": {},
   "outputs": [],
   "source": [
    "table_oeuvre_auteur.reset_index(inplace=True)"
   ]
  },
  {
   "cell_type": "code",
   "execution_count": 430,
   "metadata": {},
   "outputs": [],
   "source": [
    "def clean(x):\n",
    "    try:\n",
    "        x = x.encode('latin1').decode('utf-8')\n",
    "    except:\n",
    "        pass\n",
    "    return x"
   ]
  },
  {
   "cell_type": "code",
   "execution_count": 273,
   "metadata": {},
   "outputs": [],
   "source": [
    "table_oeuvre_auteur.Auteur = table_oeuvre_auteur.Auteur.apply(clean)"
   ]
  },
  {
   "cell_type": "code",
   "execution_count": 431,
   "metadata": {},
   "outputs": [],
   "source": [
    "def clean2(x):\n",
    "    try:\n",
    "        x = x.split(\" (\")[0]\n",
    "    except:\n",
    "        pass\n",
    "    return x"
   ]
  },
  {
   "cell_type": "code",
   "execution_count": 276,
   "metadata": {},
   "outputs": [],
   "source": [
    "table_oeuvre_auteur.Auteur = table_oeuvre_auteur.Auteur.apply(clean2)"
   ]
  },
  {
   "cell_type": "code",
   "execution_count": 432,
   "metadata": {},
   "outputs": [],
   "source": [
    "def capitalize(x):\n",
    "    x = str(x).upper()\n",
    "    return x"
   ]
  },
  {
   "cell_type": "code",
   "execution_count": 278,
   "metadata": {},
   "outputs": [
    {
     "data": {
      "text/plain": [
       "0              LE GULUCHE JOSEPH MARIE\n",
       "1                     THOMSEN CONSTANT\n",
       "2                        DUTHOIT LOUIS\n",
       "3                              ANONYME\n",
       "4         ALDER-MESNARD EUGÈNE EDOUARD\n",
       "                      ...             \n",
       "564677                 SIOT-DECAUVILLE\n",
       "564678                   DESBOIS JULES\n",
       "564679         HÉBRARD ADRIEN-AURÉLIEN\n",
       "564680                   DESBOIS JULES\n",
       "564681         HÉBRARD ADRIEN-AURÉLIEN\n",
       "Name: Auteur, Length: 564682, dtype: object"
      ]
     },
     "execution_count": 278,
     "metadata": {},
     "output_type": "execute_result"
    }
   ],
   "source": [
    "table_oeuvre_auteur = table_oeuvre_auteur.Auteur.apply(capitalize)"
   ]
  },
  {
   "cell_type": "code",
   "execution_count": 279,
   "metadata": {},
   "outputs": [
    {
     "data": {
      "text/plain": [
       "'table_oeuvre_auteur.to_csv(\"table_oeuvre_auteur.csv\",index=False)'"
      ]
     },
     "execution_count": 279,
     "metadata": {},
     "output_type": "execute_result"
    }
   ],
   "source": [
    "table_oeuvre_auteur.to_csv(\"table_oeuvre_auteur.csv\",index=False)"
   ]
  },
  {
   "cell_type": "markdown",
   "metadata": {},
   "source": [
    "# Création de la table Oeuvre-Domaine"
   ]
  },
  {
   "cell_type": "code",
   "execution_count": 455,
   "metadata": {},
   "outputs": [],
   "source": [
    "table_Oeuvre_Domaine = df[[\"ID-notice\",\"Domaine\"]]"
   ]
  },
  {
   "cell_type": "code",
   "execution_count": 457,
   "metadata": {},
   "outputs": [
    {
     "name": "stderr",
     "output_type": "stream",
     "text": [
      "C:\\Users\\33638\\AppData\\Local\\Temp\\ipykernel_15200\\2930671832.py:1: SettingWithCopyWarning: \n",
      "A value is trying to be set on a copy of a slice from a DataFrame.\n",
      "Try using .loc[row_indexer,col_indexer] = value instead\n",
      "\n",
      "See the caveats in the documentation: https://pandas.pydata.org/pandas-docs/stable/user_guide/indexing.html#returning-a-view-versus-a-copy\n",
      "  table_Oeuvre_Domaine[\"Domaine_Multiple\"] = False\n"
     ]
    }
   ],
   "source": [
    "table_Oeuvre_Domaine[\"Domaine_Multiple\"] = False"
   ]
  },
  {
   "cell_type": "code",
   "execution_count": 458,
   "metadata": {},
   "outputs": [
    {
     "name": "stderr",
     "output_type": "stream",
     "text": [
      "C:\\Users\\33638\\AppData\\Local\\Temp\\ipykernel_15200\\2013464624.py:3: SettingWithCopyWarning: \n",
      "A value is trying to be set on a copy of a slice from a DataFrame\n",
      "\n",
      "See the caveats in the documentation: https://pandas.pydata.org/pandas-docs/stable/user_guide/indexing.html#returning-a-view-versus-a-copy\n",
      "  table_Oeuvre_Domaine.Domaine_Multiple[row] = True\n",
      "c:\\Users\\33638\\anaconda3\\lib\\site-packages\\IPython\\core\\interactiveshell.py:3369: SettingWithCopyWarning: \n",
      "A value is trying to be set on a copy of a slice from a DataFrame\n",
      "\n",
      "See the caveats in the documentation: https://pandas.pydata.org/pandas-docs/stable/user_guide/indexing.html#returning-a-view-versus-a-copy\n",
      "  exec(code_obj, self.user_global_ns, self.user_ns)\n"
     ]
    }
   ],
   "source": [
    "for row in table_Oeuvre_Domaine.index:\n",
    "    if \";\" in table_Oeuvre_Domaine.Domaine[row]:\n",
    "        table_Oeuvre_Domaine.Domaine_Multiple[row] = True"
   ]
  },
  {
   "cell_type": "code",
   "execution_count": 459,
   "metadata": {},
   "outputs": [],
   "source": [
    "table_Oeuvre_Domaine_multiple = table_Oeuvre_Domaine[table_Oeuvre_Domaine.Domaine_Multiple==True]"
   ]
  },
  {
   "cell_type": "code",
   "execution_count": 460,
   "metadata": {},
   "outputs": [],
   "source": [
    "table_Oeuvre_Domaine = table_Oeuvre_Domaine[table_Oeuvre_Domaine.Domaine_Multiple==False]"
   ]
  },
  {
   "cell_type": "code",
   "execution_count": 462,
   "metadata": {},
   "outputs": [
    {
     "name": "stderr",
     "output_type": "stream",
     "text": [
      "c:\\Users\\33638\\anaconda3\\lib\\site-packages\\pandas\\core\\frame.py:4441: SettingWithCopyWarning: \n",
      "A value is trying to be set on a copy of a slice from a DataFrame\n",
      "\n",
      "See the caveats in the documentation: https://pandas.pydata.org/pandas-docs/stable/user_guide/indexing.html#returning-a-view-versus-a-copy\n",
      "  return super().rename(\n",
      "C:\\Users\\33638\\AppData\\Local\\Temp\\ipykernel_15200\\692939482.py:2: SettingWithCopyWarning: \n",
      "A value is trying to be set on a copy of a slice from a DataFrame.\n",
      "Try using .loc[row_indexer,col_indexer] = value instead\n",
      "\n",
      "See the caveats in the documentation: https://pandas.pydata.org/pandas-docs/stable/user_guide/indexing.html#returning-a-view-versus-a-copy\n",
      "  table_Oeuvre_Domaine_multiple[\"Domaine\"] = table_Oeuvre_Domaine_multiple[\"len_Domaine\"]\n"
     ]
    }
   ],
   "source": [
    "table_Oeuvre_Domaine_multiple.rename(columns={\"Domaine\":\"len_Domaine\"},inplace=True)\n",
    "table_Oeuvre_Domaine_multiple[\"Domaine\"] = table_Oeuvre_Domaine_multiple[\"len_Domaine\"]"
   ]
  },
  {
   "cell_type": "code",
   "execution_count": 463,
   "metadata": {},
   "outputs": [],
   "source": [
    "def split_domaine(x):\n",
    "    x = x.split(\";\")\n",
    "    return x"
   ]
  },
  {
   "cell_type": "code",
   "execution_count": 464,
   "metadata": {},
   "outputs": [],
   "source": [
    "def calcul_len(x):\n",
    "    x = len(x)\n",
    "    return x"
   ]
  },
  {
   "cell_type": "code",
   "execution_count": 465,
   "metadata": {},
   "outputs": [
    {
     "name": "stderr",
     "output_type": "stream",
     "text": [
      "C:\\Users\\33638\\AppData\\Local\\Temp\\ipykernel_15200\\1548367590.py:1: SettingWithCopyWarning: \n",
      "A value is trying to be set on a copy of a slice from a DataFrame.\n",
      "Try using .loc[row_indexer,col_indexer] = value instead\n",
      "\n",
      "See the caveats in the documentation: https://pandas.pydata.org/pandas-docs/stable/user_guide/indexing.html#returning-a-view-versus-a-copy\n",
      "  table_Oeuvre_Domaine_multiple[\"Domaine\"] = table_Oeuvre_Domaine_multiple[\"Domaine\"].apply(split_domaine)\n",
      "C:\\Users\\33638\\AppData\\Local\\Temp\\ipykernel_15200\\1548367590.py:2: SettingWithCopyWarning: \n",
      "A value is trying to be set on a copy of a slice from a DataFrame.\n",
      "Try using .loc[row_indexer,col_indexer] = value instead\n",
      "\n",
      "See the caveats in the documentation: https://pandas.pydata.org/pandas-docs/stable/user_guide/indexing.html#returning-a-view-versus-a-copy\n",
      "  table_Oeuvre_Domaine_multiple[\"len_Domaine\"] = table_Oeuvre_Domaine_multiple[\"len_Domaine\"].apply(split_domaine)\n",
      "C:\\Users\\33638\\AppData\\Local\\Temp\\ipykernel_15200\\1548367590.py:3: SettingWithCopyWarning: \n",
      "A value is trying to be set on a copy of a slice from a DataFrame.\n",
      "Try using .loc[row_indexer,col_indexer] = value instead\n",
      "\n",
      "See the caveats in the documentation: https://pandas.pydata.org/pandas-docs/stable/user_guide/indexing.html#returning-a-view-versus-a-copy\n",
      "  table_Oeuvre_Domaine_multiple[\"len_Domaine\"] = table_Oeuvre_Domaine_multiple[\"len_Domaine\"].apply(calcul_len)\n"
     ]
    }
   ],
   "source": [
    "table_Oeuvre_Domaine_multiple[\"Domaine\"] = table_Oeuvre_Domaine_multiple[\"Domaine\"].apply(split_domaine)\n",
    "table_Oeuvre_Domaine_multiple[\"len_Domaine\"] = table_Oeuvre_Domaine_multiple[\"len_Domaine\"].apply(split_domaine)\n",
    "table_Oeuvre_Domaine_multiple[\"len_Domaine\"] = table_Oeuvre_Domaine_multiple[\"len_Domaine\"].apply(calcul_len)"
   ]
  },
  {
   "cell_type": "code",
   "execution_count": 466,
   "metadata": {},
   "outputs": [
    {
     "name": "stderr",
     "output_type": "stream",
     "text": [
      "C:\\Users\\33638\\AppData\\Local\\Temp\\ipykernel_15200\\1431038239.py:1: SettingWithCopyWarning: \n",
      "A value is trying to be set on a copy of a slice from a DataFrame.\n",
      "Try using .loc[row_indexer,col_indexer] = value instead\n",
      "\n",
      "See the caveats in the documentation: https://pandas.pydata.org/pandas-docs/stable/user_guide/indexing.html#returning-a-view-versus-a-copy\n",
      "  table_Oeuvre_Domaine_multiple[\"ID-notice\"] = table_Oeuvre_Domaine_multiple[\"ID-notice\"].apply(split_domaine)\n"
     ]
    }
   ],
   "source": [
    "table_Oeuvre_Domaine_multiple[\"ID-notice\"] = table_Oeuvre_Domaine_multiple[\"ID-notice\"].apply(split_domaine)"
   ]
  },
  {
   "cell_type": "code",
   "execution_count": 467,
   "metadata": {},
   "outputs": [
    {
     "name": "stderr",
     "output_type": "stream",
     "text": [
      "C:\\Users\\33638\\AppData\\Local\\Temp\\ipykernel_15200\\3052721205.py:1: SettingWithCopyWarning: \n",
      "A value is trying to be set on a copy of a slice from a DataFrame.\n",
      "Try using .loc[row_indexer,col_indexer] = value instead\n",
      "\n",
      "See the caveats in the documentation: https://pandas.pydata.org/pandas-docs/stable/user_guide/indexing.html#returning-a-view-versus-a-copy\n",
      "  table_Oeuvre_Domaine_multiple[\"ID-notice_multi\"] = table_Oeuvre_Domaine_multiple[\"ID-notice\"] * table_Oeuvre_Domaine_multiple[\"len_Domaine\"]\n"
     ]
    }
   ],
   "source": [
    "table_Oeuvre_Domaine_multiple[\"ID-notice_multi\"] = table_Oeuvre_Domaine_multiple[\"ID-notice\"] * table_Oeuvre_Domaine_multiple[\"len_Domaine\"]"
   ]
  },
  {
   "cell_type": "code",
   "execution_count": 469,
   "metadata": {},
   "outputs": [],
   "source": [
    "liste_id = []\n",
    "liste_domaine = []"
   ]
  },
  {
   "cell_type": "code",
   "execution_count": 470,
   "metadata": {},
   "outputs": [],
   "source": [
    "for row in table_Oeuvre_Domaine_multiple.index:\n",
    "    liste_id += table_Oeuvre_Domaine_multiple[\"ID-notice_multi\"][row]\n",
    "    liste_domaine += table_Oeuvre_Domaine_multiple.Domaine[row]"
   ]
  },
  {
   "cell_type": "code",
   "execution_count": 471,
   "metadata": {},
   "outputs": [
    {
     "name": "stderr",
     "output_type": "stream",
     "text": [
      "c:\\Users\\33638\\anaconda3\\lib\\site-packages\\pandas\\core\\frame.py:4308: SettingWithCopyWarning: \n",
      "A value is trying to be set on a copy of a slice from a DataFrame\n",
      "\n",
      "See the caveats in the documentation: https://pandas.pydata.org/pandas-docs/stable/user_guide/indexing.html#returning-a-view-versus-a-copy\n",
      "  return super().drop(\n"
     ]
    }
   ],
   "source": [
    "table_Oeuvre_Domaine.drop(\"Domaine_Multiple\",axis=1,inplace=True)"
   ]
  },
  {
   "cell_type": "code",
   "execution_count": 472,
   "metadata": {},
   "outputs": [],
   "source": [
    "df_add = pd.DataFrame({\"ID-notice\":liste_id,\"Domaine\":liste_domaine})"
   ]
  },
  {
   "cell_type": "code",
   "execution_count": 474,
   "metadata": {},
   "outputs": [],
   "source": [
    "table_Oeuvre_Domaine = pd.concat([table_Oeuvre_Domaine,df_add])"
   ]
  },
  {
   "cell_type": "code",
   "execution_count": 475,
   "metadata": {},
   "outputs": [],
   "source": [
    "table_Oeuvre_Domaine.to_csv(\"table_Oeuvre_Domaine.csv\",index=False)"
   ]
  },
  {
   "cell_type": "markdown",
   "metadata": {},
   "source": [
    "# Creation table musée"
   ]
  },
  {
   "cell_type": "code",
   "execution_count": 392,
   "metadata": {},
   "outputs": [],
   "source": [
    "musee = musee[[\"Identifiant\",\"Nom officiel\",\"Région\",\"Département\",\"Ville\",'Latitude','Longitude']]"
   ]
  },
  {
   "cell_type": "code",
   "execution_count": 401,
   "metadata": {},
   "outputs": [
    {
     "name": "stderr",
     "output_type": "stream",
     "text": [
      "C:\\Users\\33638\\AppData\\Local\\Temp\\ipykernel_15200\\833763879.py:1: SettingWithCopyWarning: \n",
      "A value is trying to be set on a copy of a slice from a DataFrame.\n",
      "Try using .loc[row_indexer,col_indexer] = value instead\n",
      "\n",
      "See the caveats in the documentation: https://pandas.pydata.org/pandas-docs/stable/user_guide/indexing.html#returning-a-view-versus-a-copy\n",
      "  musee[\"Nom officiel\"] = musee[\"Nom officiel\"].apply(clean2)\n"
     ]
    }
   ],
   "source": [
    "musee[\"Nom officiel\"] = musee[\"Nom officiel\"].apply(clean2)"
   ]
  },
  {
   "cell_type": "code",
   "execution_count": 393,
   "metadata": {},
   "outputs": [
    {
     "data": {
      "text/plain": [
       "Identifiant     0\n",
       "Nom officiel    1\n",
       "Région          1\n",
       "Département     0\n",
       "Ville           0\n",
       "Latitude        0\n",
       "Longitude       0\n",
       "dtype: int64"
      ]
     },
     "execution_count": 393,
     "metadata": {},
     "output_type": "execute_result"
    }
   ],
   "source": [
    "musee.isna().sum()"
   ]
  },
  {
   "cell_type": "code",
   "execution_count": 394,
   "metadata": {},
   "outputs": [
    {
     "data": {
      "text/html": [
       "<div>\n",
       "<style scoped>\n",
       "    .dataframe tbody tr th:only-of-type {\n",
       "        vertical-align: middle;\n",
       "    }\n",
       "\n",
       "    .dataframe tbody tr th {\n",
       "        vertical-align: top;\n",
       "    }\n",
       "\n",
       "    .dataframe thead th {\n",
       "        text-align: right;\n",
       "    }\n",
       "</style>\n",
       "<table border=\"1\" class=\"dataframe\">\n",
       "  <thead>\n",
       "    <tr style=\"text-align: right;\">\n",
       "      <th></th>\n",
       "      <th>Identifiant</th>\n",
       "      <th>Nom officiel</th>\n",
       "      <th>Région</th>\n",
       "      <th>Département</th>\n",
       "      <th>Ville</th>\n",
       "      <th>Latitude</th>\n",
       "      <th>Longitude</th>\n",
       "    </tr>\n",
       "  </thead>\n",
       "  <tbody>\n",
       "    <tr>\n",
       "      <th>667</th>\n",
       "      <td>M1136</td>\n",
       "      <td>NaN</td>\n",
       "      <td>Hauts-de-France</td>\n",
       "      <td>Nord</td>\n",
       "      <td>Trélon</td>\n",
       "      <td>50.059654</td>\n",
       "      <td>4.10348</td>\n",
       "    </tr>\n",
       "  </tbody>\n",
       "</table>\n",
       "</div>"
      ],
      "text/plain": [
       "    Identifiant Nom officiel           Région Département   Ville   Latitude  \\\n",
       "667       M1136          NaN  Hauts-de-France        Nord  Trélon  50.059654   \n",
       "\n",
       "     Longitude  \n",
       "667    4.10348  "
      ]
     },
     "execution_count": 394,
     "metadata": {},
     "output_type": "execute_result"
    }
   ],
   "source": [
    "musee[musee[\"Nom officiel\"].isna()]"
   ]
  },
  {
   "cell_type": "code",
   "execution_count": 395,
   "metadata": {},
   "outputs": [
    {
     "name": "stderr",
     "output_type": "stream",
     "text": [
      "C:\\Users\\33638\\AppData\\Local\\Temp\\ipykernel_15200\\1139998189.py:1: SettingWithCopyWarning: \n",
      "A value is trying to be set on a copy of a slice from a DataFrame\n",
      "\n",
      "See the caveats in the documentation: https://pandas.pydata.org/pandas-docs/stable/user_guide/indexing.html#returning-a-view-versus-a-copy\n",
      "  musee[\"Nom officiel\"][667] = \"musée du verre\"\n",
      "c:\\Users\\33638\\anaconda3\\lib\\site-packages\\IPython\\core\\interactiveshell.py:3369: SettingWithCopyWarning: \n",
      "A value is trying to be set on a copy of a slice from a DataFrame\n",
      "\n",
      "See the caveats in the documentation: https://pandas.pydata.org/pandas-docs/stable/user_guide/indexing.html#returning-a-view-versus-a-copy\n",
      "  exec(code_obj, self.user_global_ns, self.user_ns)\n"
     ]
    }
   ],
   "source": [
    "musee[\"Nom officiel\"][667] = \"musée du verre\""
   ]
  },
  {
   "cell_type": "code",
   "execution_count": 396,
   "metadata": {},
   "outputs": [
    {
     "data": {
      "text/html": [
       "<div>\n",
       "<style scoped>\n",
       "    .dataframe tbody tr th:only-of-type {\n",
       "        vertical-align: middle;\n",
       "    }\n",
       "\n",
       "    .dataframe tbody tr th {\n",
       "        vertical-align: top;\n",
       "    }\n",
       "\n",
       "    .dataframe thead th {\n",
       "        text-align: right;\n",
       "    }\n",
       "</style>\n",
       "<table border=\"1\" class=\"dataframe\">\n",
       "  <thead>\n",
       "    <tr style=\"text-align: right;\">\n",
       "      <th></th>\n",
       "      <th>Identifiant</th>\n",
       "      <th>Nom officiel</th>\n",
       "      <th>Région</th>\n",
       "      <th>Département</th>\n",
       "      <th>Ville</th>\n",
       "      <th>Latitude</th>\n",
       "      <th>Longitude</th>\n",
       "    </tr>\n",
       "  </thead>\n",
       "  <tbody>\n",
       "    <tr>\n",
       "      <th>660</th>\n",
       "      <td>M1070</td>\n",
       "      <td>Musée de Villèle, histoire de l'habitation et ...</td>\n",
       "      <td>NaN</td>\n",
       "      <td>La Réunion</td>\n",
       "      <td>Saint-Gilles-les-Hauts</td>\n",
       "      <td>-21.055918</td>\n",
       "      <td>55.264409</td>\n",
       "    </tr>\n",
       "  </tbody>\n",
       "</table>\n",
       "</div>"
      ],
      "text/plain": [
       "    Identifiant                                       Nom officiel Région  \\\n",
       "660       M1070  Musée de Villèle, histoire de l'habitation et ...    NaN   \n",
       "\n",
       "    Département                   Ville   Latitude  Longitude  \n",
       "660  La Réunion  Saint-Gilles-les-Hauts -21.055918  55.264409  "
      ]
     },
     "execution_count": 396,
     "metadata": {},
     "output_type": "execute_result"
    }
   ],
   "source": [
    "musee[musee[\"Région\"].isna()]"
   ]
  },
  {
   "cell_type": "code",
   "execution_count": 397,
   "metadata": {},
   "outputs": [
    {
     "name": "stderr",
     "output_type": "stream",
     "text": [
      "C:\\Users\\33638\\AppData\\Local\\Temp\\ipykernel_15200\\2877686354.py:1: SettingWithCopyWarning: \n",
      "A value is trying to be set on a copy of a slice from a DataFrame\n",
      "\n",
      "See the caveats in the documentation: https://pandas.pydata.org/pandas-docs/stable/user_guide/indexing.html#returning-a-view-versus-a-copy\n",
      "  musee[\"Région\"][660] = \"La Réunion\"\n",
      "c:\\Users\\33638\\anaconda3\\lib\\site-packages\\IPython\\core\\interactiveshell.py:3369: SettingWithCopyWarning: \n",
      "A value is trying to be set on a copy of a slice from a DataFrame\n",
      "\n",
      "See the caveats in the documentation: https://pandas.pydata.org/pandas-docs/stable/user_guide/indexing.html#returning-a-view-versus-a-copy\n",
      "  exec(code_obj, self.user_global_ns, self.user_ns)\n"
     ]
    }
   ],
   "source": [
    "musee[\"Région\"][660] = \"La Réunion\""
   ]
  },
  {
   "cell_type": "code",
   "execution_count": 398,
   "metadata": {},
   "outputs": [
    {
     "data": {
      "text/plain": [
       "Identifiant     0\n",
       "Nom officiel    0\n",
       "Région          0\n",
       "Département     0\n",
       "Ville           0\n",
       "Latitude        0\n",
       "Longitude       0\n",
       "dtype: int64"
      ]
     },
     "execution_count": 398,
     "metadata": {},
     "output_type": "execute_result"
    }
   ],
   "source": [
    "musee.isna().sum()"
   ]
  },
  {
   "cell_type": "code",
   "execution_count": 402,
   "metadata": {},
   "outputs": [],
   "source": [
    "musee.to_csv(\"table_musee.csv\",index=False)"
   ]
  },
  {
   "cell_type": "markdown",
   "metadata": {},
   "source": [
    "# Création table oeuvres"
   ]
  },
  {
   "cell_type": "code",
   "execution_count": 367,
   "metadata": {},
   "outputs": [],
   "source": [
    "df = df[['ID-notice','Titre','Période de création','Identifiant Museofile']]"
   ]
  },
  {
   "cell_type": "code",
   "execution_count": 374,
   "metadata": {},
   "outputs": [
    {
     "name": "stderr",
     "output_type": "stream",
     "text": [
      "c:\\Users\\33638\\anaconda3\\lib\\site-packages\\pandas\\core\\generic.py:5494: SettingWithCopyWarning: \n",
      "A value is trying to be set on a copy of a slice from a DataFrame.\n",
      "Try using .loc[row_indexer,col_indexer] = value instead\n",
      "\n",
      "See the caveats in the documentation: https://pandas.pydata.org/pandas-docs/stable/user_guide/indexing.html#returning-a-view-versus-a-copy\n",
      "  self[name] = value\n"
     ]
    }
   ],
   "source": [
    "df.Titre = df.Titre.apply(clean)"
   ]
  },
  {
   "cell_type": "code",
   "execution_count": 375,
   "metadata": {},
   "outputs": [
    {
     "name": "stderr",
     "output_type": "stream",
     "text": [
      "c:\\Users\\33638\\anaconda3\\lib\\site-packages\\pandas\\core\\generic.py:5494: SettingWithCopyWarning: \n",
      "A value is trying to be set on a copy of a slice from a DataFrame.\n",
      "Try using .loc[row_indexer,col_indexer] = value instead\n",
      "\n",
      "See the caveats in the documentation: https://pandas.pydata.org/pandas-docs/stable/user_guide/indexing.html#returning-a-view-versus-a-copy\n",
      "  self[name] = value\n"
     ]
    }
   ],
   "source": [
    "df.Titre = df.Titre.apply(clean2)"
   ]
  },
  {
   "cell_type": "code",
   "execution_count": 376,
   "metadata": {},
   "outputs": [
    {
     "name": "stderr",
     "output_type": "stream",
     "text": [
      "C:\\Users\\33638\\AppData\\Local\\Temp\\ipykernel_15200\\1451934550.py:1: SettingWithCopyWarning: \n",
      "A value is trying to be set on a copy of a slice from a DataFrame.\n",
      "Try using .loc[row_indexer,col_indexer] = value instead\n",
      "\n",
      "See the caveats in the documentation: https://pandas.pydata.org/pandas-docs/stable/user_guide/indexing.html#returning-a-view-versus-a-copy\n",
      "  df[\"Période de création\"] = df[\"Période de création\"].apply(clean)\n"
     ]
    }
   ],
   "source": [
    "df[\"Période de création\"] = df[\"Période de création\"].apply(clean)"
   ]
  },
  {
   "cell_type": "code",
   "execution_count": 382,
   "metadata": {},
   "outputs": [],
   "source": [
    "def split_periode(x):\n",
    "    x = x.split(\";\")[0]\n",
    "    return x"
   ]
  },
  {
   "cell_type": "code",
   "execution_count": 384,
   "metadata": {},
   "outputs": [
    {
     "name": "stderr",
     "output_type": "stream",
     "text": [
      "C:\\Users\\33638\\AppData\\Local\\Temp\\ipykernel_15200\\21191528.py:1: SettingWithCopyWarning: \n",
      "A value is trying to be set on a copy of a slice from a DataFrame.\n",
      "Try using .loc[row_indexer,col_indexer] = value instead\n",
      "\n",
      "See the caveats in the documentation: https://pandas.pydata.org/pandas-docs/stable/user_guide/indexing.html#returning-a-view-versus-a-copy\n",
      "  df[\"Période de création\"] = df[\"Période de création\"].apply(split_periode)\n"
     ]
    }
   ],
   "source": [
    "df[\"Période de création\"] = df[\"Période de création\"].apply(split_periode)"
   ]
  },
  {
   "cell_type": "code",
   "execution_count": 407,
   "metadata": {},
   "outputs": [],
   "source": [
    "def limit_250(x):\n",
    "    x = x[:249]\n",
    "    return x"
   ]
  },
  {
   "cell_type": "code",
   "execution_count": 408,
   "metadata": {},
   "outputs": [],
   "source": [
    "df.Titre = df.Titre.apply(limit_250)"
   ]
  },
  {
   "cell_type": "code",
   "execution_count": 410,
   "metadata": {},
   "outputs": [],
   "source": [
    "df = df.drop_duplicates()"
   ]
  },
  {
   "cell_type": "code",
   "execution_count": 411,
   "metadata": {},
   "outputs": [],
   "source": [
    "df.to_csv(\"table_oeuvres.csv\",index=False)"
   ]
  }
 ],
 "metadata": {
  "kernelspec": {
   "display_name": "Python 3.8.8 ('base')",
   "language": "python",
   "name": "python3"
  },
  "language_info": {
   "codemirror_mode": {
    "name": "ipython",
    "version": 3
   },
   "file_extension": ".py",
   "mimetype": "text/x-python",
   "name": "python",
   "nbconvert_exporter": "python",
   "pygments_lexer": "ipython3",
   "version": "3.8.8"
  },
  "orig_nbformat": 4,
  "vscode": {
   "interpreter": {
    "hash": "7d1962ebe7a0e2a2e85ea33467ffefcaf9a1a84cbc83a928177a012af89e0b2e"
   }
  }
 },
 "nbformat": 4,
 "nbformat_minor": 2
}
