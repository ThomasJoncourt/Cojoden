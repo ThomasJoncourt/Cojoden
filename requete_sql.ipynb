{
 "cells": [
  {
   "cell_type": "code",
   "execution_count": 1,
   "metadata": {},
   "outputs": [],
   "source": [
    "import pandas as pd\n",
    "import mysql.connector\n",
    "import googlemaps"
   ]
  },
  {
   "cell_type": "code",
   "execution_count": 17,
   "metadata": {},
   "outputs": [],
   "source": [
    "auteur = \"chaissac gaston\""
   ]
  },
  {
   "cell_type": "code",
   "execution_count": 4,
   "metadata": {},
   "outputs": [],
   "source": [
    "cnx = mysql.connector.connect(user='root',password = \"root\",host=\"localhost\",  database='joconde2')"
   ]
  },
  {
   "cell_type": "code",
   "execution_count": 26,
   "metadata": {},
   "outputs": [],
   "source": [
    "mycursor =cnx.cursor()\n",
    "mycursor.execute(f\"SELECT oeuvres.IdMusee FROM oeuvres INNER JOIN creer ON oeuvres.Id=creer.IdOeuvre WHERE creer.Auteur='chaissac gaston'\")\n",
    "mes_resultats = mycursor.fetchall()"
   ]
  },
  {
   "cell_type": "code",
   "execution_count": 27,
   "metadata": {},
   "outputs": [
    {
     "data": {
      "text/plain": [
       "[('M0431',),\n",
       " ('M0994',),\n",
       " ('M0181',),\n",
       " ('M0016',),\n",
       " ('M0743',),\n",
       " ('M0743',),\n",
       " ('M0743',),\n",
       " ('M0743',),\n",
       " ('M0743',),\n",
       " ('M0743',),\n",
       " ('M0743',),\n",
       " ('M0888',),\n",
       " ('M0743',),\n",
       " ('M0743',),\n",
       " ('M0743',),\n",
       " ('M0743',),\n",
       " ('M0743',),\n",
       " ('M0639',),\n",
       " ('M0743',),\n",
       " ('M0743',),\n",
       " ('M0743',),\n",
       " ('M0743',),\n",
       " ('M0743',),\n",
       " ('M0743',),\n",
       " ('M0743',),\n",
       " ('M0743',),\n",
       " ('M0506',),\n",
       " ('M0743',),\n",
       " ('M0743',),\n",
       " ('M0639',),\n",
       " ('M0028',),\n",
       " ('M0994',),\n",
       " ('M0994',),\n",
       " ('M0743',),\n",
       " ('M0994',),\n",
       " ('M0994',),\n",
       " ('M0994',),\n",
       " ('M0743',),\n",
       " ('M0888',),\n",
       " ('M0028',),\n",
       " ('M0028',),\n",
       " ('M0994',),\n",
       " ('M0028',),\n",
       " ('M0028',)]"
      ]
     },
     "execution_count": 27,
     "metadata": {},
     "output_type": "execute_result"
    }
   ],
   "source": [
    "mes_resultats"
   ]
  },
  {
   "cell_type": "code",
   "execution_count": 31,
   "metadata": {},
   "outputs": [],
   "source": [
    "mycursor =cnx.cursor()\n",
    "mycursor.execute(f\"SELECT musees.nom,musees.Ville FROM oeuvres INNER JOIN musees on oeuvres.IdMusee=musees.Id INNER JOIN creer ON oeuvres.Id=creer.IdOeuvre WHERE creer.Auteur='chaissac gaston'\")\n",
    "mes_resultats = mycursor.fetchall()"
   ]
  },
  {
   "cell_type": "code",
   "execution_count": 33,
   "metadata": {},
   "outputs": [
    {
     "data": {
      "text/plain": [
       "{(\"LaM, Lille Métropole musée d'art moderne, d'art contemporain et d'art brut\",\n",
       "  \"Villeneuve d'Ascq\"),\n",
       " ('musée Greuze - hôtel-Dieu', 'Tournus'),\n",
       " (\"musée d'Art Moderne et d'Art Contemporain\", 'Nice'),\n",
       " (\"musée d'Unterlinden\", 'Colmar'),\n",
       " (\"musée d'art contemporain du Val-de-Marne\", 'Vitry-sur-Seine'),\n",
       " (\"musée d'art moderne et contemporain de Strasbourg\", 'Strasbourg'),\n",
       " ('musée de Grenoble', 'Grenoble'),\n",
       " ('musée des Beaux-Arts', 'Nantes'),\n",
       " (\"musée départemental d'Art Contemporain\", 'Rochechouart')}"
      ]
     },
     "execution_count": 33,
     "metadata": {},
     "output_type": "execute_result"
    }
   ],
   "source": [
    "set(mes_resultats)"
   ]
  },
  {
   "cell_type": "code",
   "execution_count": 34,
   "metadata": {},
   "outputs": [],
   "source": [
    "df_result = pd.DataFrame(set(mes_resultats),columns=[\"Nom_Musée\",\"Ville\"])"
   ]
  },
  {
   "cell_type": "code",
   "execution_count": 35,
   "metadata": {},
   "outputs": [
    {
     "data": {
      "text/html": [
       "<div>\n",
       "<style scoped>\n",
       "    .dataframe tbody tr th:only-of-type {\n",
       "        vertical-align: middle;\n",
       "    }\n",
       "\n",
       "    .dataframe tbody tr th {\n",
       "        vertical-align: top;\n",
       "    }\n",
       "\n",
       "    .dataframe thead th {\n",
       "        text-align: right;\n",
       "    }\n",
       "</style>\n",
       "<table border=\"1\" class=\"dataframe\">\n",
       "  <thead>\n",
       "    <tr style=\"text-align: right;\">\n",
       "      <th></th>\n",
       "      <th>Nom_Musée</th>\n",
       "      <th>Ville</th>\n",
       "    </tr>\n",
       "  </thead>\n",
       "  <tbody>\n",
       "    <tr>\n",
       "      <th>0</th>\n",
       "      <td>LaM, Lille Métropole musée d'art moderne, d'ar...</td>\n",
       "      <td>Villeneuve d'Ascq</td>\n",
       "    </tr>\n",
       "    <tr>\n",
       "      <th>1</th>\n",
       "      <td>musée de Grenoble</td>\n",
       "      <td>Grenoble</td>\n",
       "    </tr>\n",
       "    <tr>\n",
       "      <th>2</th>\n",
       "      <td>musée d'Art Moderne et d'Art Contemporain</td>\n",
       "      <td>Nice</td>\n",
       "    </tr>\n",
       "    <tr>\n",
       "      <th>3</th>\n",
       "      <td>musée des Beaux-Arts</td>\n",
       "      <td>Nantes</td>\n",
       "    </tr>\n",
       "    <tr>\n",
       "      <th>4</th>\n",
       "      <td>musée d'Unterlinden</td>\n",
       "      <td>Colmar</td>\n",
       "    </tr>\n",
       "    <tr>\n",
       "      <th>5</th>\n",
       "      <td>musée départemental d'Art Contemporain</td>\n",
       "      <td>Rochechouart</td>\n",
       "    </tr>\n",
       "    <tr>\n",
       "      <th>6</th>\n",
       "      <td>musée Greuze - hôtel-Dieu</td>\n",
       "      <td>Tournus</td>\n",
       "    </tr>\n",
       "    <tr>\n",
       "      <th>7</th>\n",
       "      <td>musée d'art contemporain du Val-de-Marne</td>\n",
       "      <td>Vitry-sur-Seine</td>\n",
       "    </tr>\n",
       "    <tr>\n",
       "      <th>8</th>\n",
       "      <td>musée d'art moderne et contemporain de Strasbourg</td>\n",
       "      <td>Strasbourg</td>\n",
       "    </tr>\n",
       "  </tbody>\n",
       "</table>\n",
       "</div>"
      ],
      "text/plain": [
       "                                           Nom_Musée              Ville\n",
       "0  LaM, Lille Métropole musée d'art moderne, d'ar...  Villeneuve d'Ascq\n",
       "1                                  musée de Grenoble           Grenoble\n",
       "2          musée d'Art Moderne et d'Art Contemporain               Nice\n",
       "3                               musée des Beaux-Arts             Nantes\n",
       "4                                musée d'Unterlinden             Colmar\n",
       "5             musée départemental d'Art Contemporain       Rochechouart\n",
       "6                          musée Greuze - hôtel-Dieu            Tournus\n",
       "7           musée d'art contemporain du Val-de-Marne    Vitry-sur-Seine\n",
       "8  musée d'art moderne et contemporain de Strasbourg         Strasbourg"
      ]
     },
     "execution_count": 35,
     "metadata": {},
     "output_type": "execute_result"
    }
   ],
   "source": [
    "df_result"
   ]
  },
  {
   "cell_type": "code",
   "execution_count": 36,
   "metadata": {},
   "outputs": [],
   "source": [
    "API_key = open(\"c:/Users/33638/Desktop/joconde_script/API_key_gmaps.txt\").readline()"
   ]
  },
  {
   "cell_type": "code",
   "execution_count": 37,
   "metadata": {},
   "outputs": [],
   "source": [
    "gmaps = googlemaps.Client(key=API_key)"
   ]
  },
  {
   "cell_type": "code",
   "execution_count": 38,
   "metadata": {},
   "outputs": [],
   "source": [
    "ville_depart = \"Lannion\""
   ]
  },
  {
   "cell_type": "code",
   "execution_count": 45,
   "metadata": {},
   "outputs": [],
   "source": [
    "my_dist = gmaps.distance_matrix(ville_depart,df_result.Ville[0])['rows'][0]['elements'][0]\n",
    "distance = my_dist['distance']['text']\n",
    "duration = my_dist['duration']['text']"
   ]
  },
  {
   "cell_type": "code",
   "execution_count": 47,
   "metadata": {},
   "outputs": [],
   "source": [
    "df_result['distance'] = None\n",
    "df_result['duration'] = None"
   ]
  },
  {
   "cell_type": "code",
   "execution_count": 48,
   "metadata": {},
   "outputs": [],
   "source": [
    "for row in df_result.index:\n",
    "    my_dist = gmaps.distance_matrix(ville_depart,df_result.Ville[row])['rows'][0]['elements'][0]\n",
    "    df_result['distance'][row] = my_dist['distance']['text']\n",
    "    df_result['duration'][row] = my_dist['duration']['text']"
   ]
  },
  {
   "cell_type": "code",
   "execution_count": 49,
   "metadata": {},
   "outputs": [
    {
     "data": {
      "text/html": [
       "<div>\n",
       "<style scoped>\n",
       "    .dataframe tbody tr th:only-of-type {\n",
       "        vertical-align: middle;\n",
       "    }\n",
       "\n",
       "    .dataframe tbody tr th {\n",
       "        vertical-align: top;\n",
       "    }\n",
       "\n",
       "    .dataframe thead th {\n",
       "        text-align: right;\n",
       "    }\n",
       "</style>\n",
       "<table border=\"1\" class=\"dataframe\">\n",
       "  <thead>\n",
       "    <tr style=\"text-align: right;\">\n",
       "      <th></th>\n",
       "      <th>Nom_Musée</th>\n",
       "      <th>Ville</th>\n",
       "      <th>distance</th>\n",
       "      <th>duration</th>\n",
       "    </tr>\n",
       "  </thead>\n",
       "  <tbody>\n",
       "    <tr>\n",
       "      <th>0</th>\n",
       "      <td>LaM, Lille Métropole musée d'art moderne, d'ar...</td>\n",
       "      <td>Villeneuve d'Ascq</td>\n",
       "      <td>682 km</td>\n",
       "      <td>6 hours 45 mins</td>\n",
       "    </tr>\n",
       "    <tr>\n",
       "      <th>1</th>\n",
       "      <td>musée de Grenoble</td>\n",
       "      <td>Grenoble</td>\n",
       "      <td>1,011 km</td>\n",
       "      <td>9 hours 28 mins</td>\n",
       "    </tr>\n",
       "    <tr>\n",
       "      <th>2</th>\n",
       "      <td>musée d'Art Moderne et d'Art Contemporain</td>\n",
       "      <td>Nice</td>\n",
       "      <td>1,368 km</td>\n",
       "      <td>12 hours 44 mins</td>\n",
       "    </tr>\n",
       "    <tr>\n",
       "      <th>3</th>\n",
       "      <td>musée des Beaux-Arts</td>\n",
       "      <td>Nantes</td>\n",
       "      <td>268 km</td>\n",
       "      <td>2 hours 53 mins</td>\n",
       "    </tr>\n",
       "    <tr>\n",
       "      <th>4</th>\n",
       "      <td>musée d'Unterlinden</td>\n",
       "      <td>Colmar</td>\n",
       "      <td>978 km</td>\n",
       "      <td>9 hours 48 mins</td>\n",
       "    </tr>\n",
       "    <tr>\n",
       "      <th>5</th>\n",
       "      <td>musée départemental d'Art Contemporain</td>\n",
       "      <td>Rochechouart</td>\n",
       "      <td>571 km</td>\n",
       "      <td>6 hours 6 mins</td>\n",
       "    </tr>\n",
       "    <tr>\n",
       "      <th>6</th>\n",
       "      <td>musée Greuze - hôtel-Dieu</td>\n",
       "      <td>Tournus</td>\n",
       "      <td>833 km</td>\n",
       "      <td>7 hours 41 mins</td>\n",
       "    </tr>\n",
       "    <tr>\n",
       "      <th>7</th>\n",
       "      <td>musée d'art contemporain du Val-de-Marne</td>\n",
       "      <td>Vitry-sur-Seine</td>\n",
       "      <td>509 km</td>\n",
       "      <td>4 hours 57 mins</td>\n",
       "    </tr>\n",
       "    <tr>\n",
       "      <th>8</th>\n",
       "      <td>musée d'art moderne et contemporain de Strasbourg</td>\n",
       "      <td>Strasbourg</td>\n",
       "      <td>995 km</td>\n",
       "      <td>9 hours 27 mins</td>\n",
       "    </tr>\n",
       "  </tbody>\n",
       "</table>\n",
       "</div>"
      ],
      "text/plain": [
       "                                           Nom_Musée              Ville  \\\n",
       "0  LaM, Lille Métropole musée d'art moderne, d'ar...  Villeneuve d'Ascq   \n",
       "1                                  musée de Grenoble           Grenoble   \n",
       "2          musée d'Art Moderne et d'Art Contemporain               Nice   \n",
       "3                               musée des Beaux-Arts             Nantes   \n",
       "4                                musée d'Unterlinden             Colmar   \n",
       "5             musée départemental d'Art Contemporain       Rochechouart   \n",
       "6                          musée Greuze - hôtel-Dieu            Tournus   \n",
       "7           musée d'art contemporain du Val-de-Marne    Vitry-sur-Seine   \n",
       "8  musée d'art moderne et contemporain de Strasbourg         Strasbourg   \n",
       "\n",
       "   distance          duration  \n",
       "0    682 km   6 hours 45 mins  \n",
       "1  1,011 km   9 hours 28 mins  \n",
       "2  1,368 km  12 hours 44 mins  \n",
       "3    268 km   2 hours 53 mins  \n",
       "4    978 km   9 hours 48 mins  \n",
       "5    571 km    6 hours 6 mins  \n",
       "6    833 km   7 hours 41 mins  \n",
       "7    509 km   4 hours 57 mins  \n",
       "8    995 km   9 hours 27 mins  "
      ]
     },
     "execution_count": 49,
     "metadata": {},
     "output_type": "execute_result"
    }
   ],
   "source": [
    "df_result"
   ]
  },
  {
   "cell_type": "code",
   "execution_count": null,
   "metadata": {},
   "outputs": [],
   "source": []
  }
 ],
 "metadata": {
  "kernelspec": {
   "display_name": "Python 3.8.8 ('base')",
   "language": "python",
   "name": "python3"
  },
  "language_info": {
   "codemirror_mode": {
    "name": "ipython",
    "version": 3
   },
   "file_extension": ".py",
   "mimetype": "text/x-python",
   "name": "python",
   "nbconvert_exporter": "python",
   "pygments_lexer": "ipython3",
   "version": "3.8.8"
  },
  "orig_nbformat": 4,
  "vscode": {
   "interpreter": {
    "hash": "7d1962ebe7a0e2a2e85ea33467ffefcaf9a1a84cbc83a928177a012af89e0b2e"
   }
  }
 },
 "nbformat": 4,
 "nbformat_minor": 2
}
