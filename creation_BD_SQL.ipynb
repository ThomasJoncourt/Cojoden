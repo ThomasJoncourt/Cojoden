{
 "cells": [
  {
   "cell_type": "code",
   "execution_count": 21,
   "id": "a30e6c28",
   "metadata": {},
   "outputs": [],
   "source": [
    "import pandas as pd\n",
    "import mysql.connector\n",
    "from mysql.connector import errorcode"
   ]
  },
  {
   "cell_type": "code",
   "execution_count": 22,
   "id": "d7a42c0a",
   "metadata": {},
   "outputs": [],
   "source": [
    "table_oeuvre_auteur = pd.read_csv(\"table_oeuvre_auteur.csv\")\n",
    "table_musee = pd.read_csv(\"table_musee.csv\")\n",
    "table_Oeuvre_Domaine = pd.read_csv(\"table_Oeuvre_Domaine.csv\")\n",
    "table_oeuvres = pd.read_csv(\"table_oeuvres.csv\")"
   ]
  },
  {
   "cell_type": "code",
   "execution_count": 23,
   "id": "86646563",
   "metadata": {},
   "outputs": [
    {
     "data": {
      "text/html": [
       "<div>\n",
       "<style scoped>\n",
       "    .dataframe tbody tr th:only-of-type {\n",
       "        vertical-align: middle;\n",
       "    }\n",
       "\n",
       "    .dataframe tbody tr th {\n",
       "        vertical-align: top;\n",
       "    }\n",
       "\n",
       "    .dataframe thead th {\n",
       "        text-align: right;\n",
       "    }\n",
       "</style>\n",
       "<table border=\"1\" class=\"dataframe\">\n",
       "  <thead>\n",
       "    <tr style=\"text-align: right;\">\n",
       "      <th></th>\n",
       "      <th>ID-notice</th>\n",
       "      <th>Domaine</th>\n",
       "    </tr>\n",
       "  </thead>\n",
       "  <tbody>\n",
       "    <tr>\n",
       "      <th>0</th>\n",
       "      <td>M0435002007</td>\n",
       "      <td>sculpture</td>\n",
       "    </tr>\n",
       "    <tr>\n",
       "      <th>1</th>\n",
       "      <td>M0435001924</td>\n",
       "      <td>sculpture</td>\n",
       "    </tr>\n",
       "    <tr>\n",
       "      <th>2</th>\n",
       "      <td>08120020599</td>\n",
       "      <td>dessin</td>\n",
       "    </tr>\n",
       "    <tr>\n",
       "      <th>3</th>\n",
       "      <td>08120020608</td>\n",
       "      <td>dessin</td>\n",
       "    </tr>\n",
       "    <tr>\n",
       "      <th>4</th>\n",
       "      <td>08120020826</td>\n",
       "      <td>dessin</td>\n",
       "    </tr>\n",
       "    <tr>\n",
       "      <th>...</th>\n",
       "      <td>...</td>\n",
       "      <td>...</td>\n",
       "    </tr>\n",
       "    <tr>\n",
       "      <th>639910</th>\n",
       "      <td>50520013329</td>\n",
       "      <td>vie militaire</td>\n",
       "    </tr>\n",
       "    <tr>\n",
       "      <th>639911</th>\n",
       "      <td>00660020018</td>\n",
       "      <td>dessin</td>\n",
       "    </tr>\n",
       "    <tr>\n",
       "      <th>639912</th>\n",
       "      <td>00660020018</td>\n",
       "      <td>beaux-arts</td>\n",
       "    </tr>\n",
       "    <tr>\n",
       "      <th>639913</th>\n",
       "      <td>00660020033</td>\n",
       "      <td>dessin</td>\n",
       "    </tr>\n",
       "    <tr>\n",
       "      <th>639914</th>\n",
       "      <td>00660020033</td>\n",
       "      <td>beaux-arts</td>\n",
       "    </tr>\n",
       "  </tbody>\n",
       "</table>\n",
       "<p>639915 rows × 2 columns</p>\n",
       "</div>"
      ],
      "text/plain": [
       "          ID-notice        Domaine\n",
       "0       M0435002007      sculpture\n",
       "1       M0435001924      sculpture\n",
       "2       08120020599         dessin\n",
       "3       08120020608         dessin\n",
       "4       08120020826         dessin\n",
       "...             ...            ...\n",
       "639910  50520013329  vie militaire\n",
       "639911  00660020018         dessin\n",
       "639912  00660020018     beaux-arts\n",
       "639913  00660020033         dessin\n",
       "639914  00660020033     beaux-arts\n",
       "\n",
       "[639915 rows x 2 columns]"
      ]
     },
     "execution_count": 23,
     "metadata": {},
     "output_type": "execute_result"
    }
   ],
   "source": [
    "table_Oeuvre_Domaine"
   ]
  },
  {
   "cell_type": "code",
   "execution_count": 24,
   "id": "9af876db",
   "metadata": {},
   "outputs": [],
   "source": [
    "DB_NAME = 'joconde2'\n",
    "\n",
    "TABLES = {}\n",
    "\n",
    "TABLES['musees'] = (\n",
    "    \"CREATE TABLE `musees` (\"\n",
    "    \"  `Id` varchar(10) NOT NULL,\"\n",
    "    \"  `Nom` varchar(250),\"\n",
    "    \"  `Region` varchar(50),\"\n",
    "    \"  `Departement` varchar(50),\"\n",
    "    \"  `Ville` varchar(50),\"\n",
    "    \"  `Latitude` float(25),\"\n",
    "    \"  `Longitude` float(25),\"\n",
    "    \"  PRIMARY KEY (`Id`)\"\n",
    "    \") ENGINE=InnoDB\")\n",
    "\n",
    "TABLES['oeuvres'] = (\n",
    "    \"CREATE TABLE `oeuvres` (\"\n",
    "    \"  `Id` varchar(25) NOT NULL,\"\n",
    "    \"  `Titre` varchar(250),\"\n",
    "    \"  `Période_Création` varchar(250),\"\n",
    "    \"  `IdMusee` varchar(10),\"\n",
    "    \"  PRIMARY KEY (`Id`),\"\n",
    "    \"  CONSTRAINT `oeuvres_ibfk_1` FOREIGN KEY (`IdMusee`) \"\n",
    "    \"     REFERENCES `musees` (`Id`)\"\n",
    "    \") ENGINE=InnoDB\")\n",
    "\n",
    "TABLES['creer'] = (\n",
    "    \"CREATE TABLE `creer` (\"\n",
    "    \"  `IdOeuvre` varchar(25) NOT NULL,\"\n",
    "    \"  `Auteur` varchar(50),\"\n",
    "    \"  CONSTRAINT `creer_ibfk_1` FOREIGN KEY (`IdOeuvre`) \"\n",
    "    \"     REFERENCES `oeuvres` (`Id`)\"\n",
    "    \") ENGINE=InnoDB\")\n",
    "\n",
    "TABLES['domaine'] = (\n",
    "    \"CREATE TABLE `domaine` (\"\n",
    "    \"  `IdOeuvre` varchar(25) NOT NULL,\"\n",
    "    \"  `domaine` varchar(50),\"\n",
    "    \"  CONSTRAINT `domaine_ibfk_1` FOREIGN KEY (`IdOeuvre`) \"\n",
    "    \"     REFERENCES `oeuvres` (`Id`)\"\n",
    "    \") ENGINE=InnoDB\")"
   ]
  },
  {
   "cell_type": "code",
   "execution_count": 25,
   "id": "91dc84ed",
   "metadata": {},
   "outputs": [
    {
     "name": "stdout",
     "output_type": "stream",
     "text": [
      "Creating table musees: OK\n",
      "Creating table oeuvres: OK\n",
      "Creating table creer: OK\n",
      "Creating table domaine: OK\n"
     ]
    }
   ],
   "source": [
    "cnx = mysql.connector.connect(user='root',password = \"root\", database='joconde2')\n",
    "cursor = cnx.cursor()\n",
    "for table_name in TABLES:\n",
    "    table_description = TABLES[table_name]\n",
    "    try:\n",
    "        print(\"Creating table {}: \".format(table_name), end='')\n",
    "        cursor.execute(table_description)\n",
    "    except mysql.connector.Error as err:\n",
    "        if err.errno == errorcode.ER_TABLE_EXISTS_ERROR:\n",
    "            print(\"already exists.\")\n",
    "        else:\n",
    "            print(err.msg)\n",
    "    else:\n",
    "        print(\"OK\")\n",
    "\n",
    "cursor.close()\n",
    "cnx.close()"
   ]
  },
  {
   "cell_type": "code",
   "execution_count": null,
   "id": "a928ba8c",
   "metadata": {},
   "outputs": [],
   "source": []
  }
 ],
 "metadata": {
  "kernelspec": {
   "display_name": "Python 3.8.8 ('base')",
   "language": "python",
   "name": "python3"
  },
  "language_info": {
   "codemirror_mode": {
    "name": "ipython",
    "version": 3
   },
   "file_extension": ".py",
   "mimetype": "text/x-python",
   "name": "python",
   "nbconvert_exporter": "python",
   "pygments_lexer": "ipython3",
   "version": "3.8.8"
  },
  "vscode": {
   "interpreter": {
    "hash": "7d1962ebe7a0e2a2e85ea33467ffefcaf9a1a84cbc83a928177a012af89e0b2e"
   }
  }
 },
 "nbformat": 4,
 "nbformat_minor": 5
}
